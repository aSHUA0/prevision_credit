{
 "cells": [
  {
   "cell_type": "markdown",
   "id": "937c723d",
   "metadata": {},
   "source": [
    "# **Random Forest**"
   ]
  },
  {
   "cell_type": "code",
   "execution_count": 1,
   "id": "1d205646",
   "metadata": {},
   "outputs": [],
   "source": [
    "import os\n",
    "import pandas as pd\n",
    "\n",
    "caminho = os.path.join(\"..\", \"data\", 'UCC.csv')\n",
    "\n",
    "credit = pd.read_csv(caminho)"
   ]
  },
  {
   "cell_type": "code",
   "execution_count": 15,
   "id": "4ececb56",
   "metadata": {},
   "outputs": [
    {
     "name": "stdout",
     "output_type": "stream",
     "text": [
      "Acurácia: 0.8148333333333333\n",
      "Matriz de confusão:\n",
      " [[4396  267]\n",
      " [ 844  493]]\n",
      "Relatório de classificação:\n",
      "               precision    recall  f1-score   support\n",
      "\n",
      "           0       0.84      0.94      0.89      4663\n",
      "           1       0.65      0.37      0.47      1337\n",
      "\n",
      "    accuracy                           0.81      6000\n",
      "   macro avg       0.74      0.66      0.68      6000\n",
      "weighted avg       0.80      0.81      0.79      6000\n",
      "\n"
     ]
    }
   ],
   "source": [
    "from sklearn.model_selection import train_test_split\n",
    "from sklearn.ensemble import RandomForestClassifier\n",
    "from sklearn.metrics import accuracy_score, confusion_matrix, classification_report\n",
    "\n",
    "#Separação dos dados\n",
    "input = credit.drop(columns='default.payment.next.month')\n",
    "output = credit['default.payment.next.month']\n",
    "\n",
    "input_train, input_test, output_train, output_test = train_test_split(input, output, test_size = 0.2, random_state=47)\n",
    "\n",
    "#Instanciar randomforest\n",
    "rf_model = RandomForestClassifier(n_estimators=100, max_depth=None, random_state=47)\n",
    "\n",
    "#Treinando o Algoritimo\n",
    "rf_model.fit(input_train, output_train)\n",
    "\n",
    "rf_predict = rf_model.predict(input_test)\n",
    "\n",
    "print(\"Acurácia:\", accuracy_score(output_test, rf_predict))\n",
    "print(\"Matriz de confusão:\\n\", confusion_matrix(output_test, rf_predict))\n",
    "print(\"Relatório de classificação:\\n\", classification_report(output_test, rf_predict))"
   ]
  },
  {
   "cell_type": "markdown",
   "id": "89c83061",
   "metadata": {},
   "source": [
    "**Usando StandardScaler**"
   ]
  },
  {
   "cell_type": "code",
   "execution_count": 13,
   "id": "e4dfa0c9",
   "metadata": {},
   "outputs": [
    {
     "name": "stdout",
     "output_type": "stream",
     "text": [
      "Acurácia: 0.8146666666666667\n",
      "Matriz de confusão:\n",
      " [[4396  267]\n",
      " [ 845  492]]\n",
      "Relatório de classificação:\n",
      "               precision    recall  f1-score   support\n",
      "\n",
      "           0       0.84      0.94      0.89      4663\n",
      "           1       0.65      0.37      0.47      1337\n",
      "\n",
      "    accuracy                           0.81      6000\n",
      "   macro avg       0.74      0.66      0.68      6000\n",
      "weighted avg       0.80      0.81      0.79      6000\n",
      "\n"
     ]
    }
   ],
   "source": [
    "from sklearn.preprocessing import StandardScaler\n",
    "\n",
    "#Separação dos dados\n",
    "input = credit.drop(columns='default.payment.next.month')\n",
    "output = credit['default.payment.next.month']\n",
    "input_train, input_test, output_train, output_test = train_test_split(input, output, test_size = 0.2, random_state=47)\n",
    "\n",
    "#Instanciar randomforest\n",
    "rf_model = RandomForestClassifier(n_estimators=100, max_depth=None, random_state=47)\n",
    "\n",
    "#Escalonando os dados\n",
    "scaler = StandardScaler()\n",
    "input_train_scaled = scaler.fit_transform(input_train)\n",
    "\n",
    "input_test_scaled = scaler.transform(input_test)\n",
    "\n",
    "#Treinando o Algoritimo\n",
    "rf_model.fit(input_train_scaled, output_train)\n",
    "\n",
    "rf_predict = rf_model.predict(input_test_scaled)\n",
    "\n",
    "print(\"Acurácia:\", accuracy_score(output_test, rf_predict))\n",
    "print(\"Matriz de confusão:\\n\", confusion_matrix(output_test, rf_predict))\n",
    "print(\"Relatório de classificação:\\n\", classification_report(output_test, rf_predict))"
   ]
  },
  {
   "cell_type": "markdown",
   "id": "685d1830",
   "metadata": {},
   "source": [
    "**Usando MinMaxScaler**"
   ]
  },
  {
   "cell_type": "code",
   "execution_count": null,
   "id": "d69ae044",
   "metadata": {},
   "outputs": [
    {
     "name": "stdout",
     "output_type": "stream",
     "text": [
      "Acurácia: 0.8151666666666667\n",
      "Matriz de confusão:\n",
      " [[4396  267]\n",
      " [ 842  495]]\n",
      "Relatório de classificação:\n",
      "               precision    recall  f1-score   support\n",
      "\n",
      "           0       0.84      0.94      0.89      4663\n",
      "           1       0.65      0.37      0.47      1337\n",
      "\n",
      "    accuracy                           0.82      6000\n",
      "   macro avg       0.74      0.66      0.68      6000\n",
      "weighted avg       0.80      0.82      0.80      6000\n",
      "\n"
     ]
    }
   ],
   "source": [
    "from sklearn.preprocessing import MinMaxScaler\n",
    "\n",
    "#Separação dos dados\n",
    "input = credit.drop(columns='default.payment.next.month')\n",
    "output = credit['default.payment.next.month']\n",
    "input_train, input_test, output_train, output_test = train_test_split(input, output, test_size = 0.2, random_state=47)\n",
    "\n",
    "#Instanciar randomforest\n",
    "rf_model = RandomForestClassifier(n_estimators=100, max_depth=None, random_state=47)\n",
    "\n",
    "#Escalonando os dados\n",
    "scaler = MinMaxScaler()\n",
    "input_train_scaled = scaler.fit_transform(input_train)\n",
    "\n",
    "input_test_scaled = scaler.transform(input_test)\n",
    "\n",
    "#Treinando o Algoritimo\n",
    "rf_model.fit(input_train_scaled, output_train)\n",
    "\n",
    "rf_predict = rf_model.predict(input_test_scaled)\n",
    "\n",
    "print(\"Acurácia:\", accuracy_score(output_test, rf_predict))\n",
    "print(\"Matriz de confusão:\\n\", confusion_matrix(output_test, rf_predict))\n",
    "print(\"Relatório de classificação:\\n\", classification_report(output_test, rf_predict))"
   ]
  }
 ],
 "metadata": {
  "kernelspec": {
   "display_name": "venv",
   "language": "python",
   "name": "python3"
  },
  "language_info": {
   "codemirror_mode": {
    "name": "ipython",
    "version": 3
   },
   "file_extension": ".py",
   "mimetype": "text/x-python",
   "name": "python",
   "nbconvert_exporter": "python",
   "pygments_lexer": "ipython3",
   "version": "3.12.8"
  }
 },
 "nbformat": 4,
 "nbformat_minor": 5
}
