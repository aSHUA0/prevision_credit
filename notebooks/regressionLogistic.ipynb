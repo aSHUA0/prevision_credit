{
 "cells": [
  {
   "cell_type": "markdown",
   "id": "e1423e5f",
   "metadata": {},
   "source": [
    "# **Algoritimo de Regressão Logística**"
   ]
  },
  {
   "cell_type": "code",
   "execution_count": 1,
   "id": "1eb7cb7f",
   "metadata": {},
   "outputs": [],
   "source": [
    "import os\n",
    "import pandas as pd\n",
    "\n",
    "caminho = os.path.join(\"..\", \"data\", 'UCC.csv')\n",
    "\n",
    "credit = pd.read_csv(caminho)"
   ]
  },
  {
   "cell_type": "code",
   "execution_count": null,
   "id": "8de82555",
   "metadata": {},
   "outputs": [
    {
     "name": "stdout",
     "output_type": "stream",
     "text": [
      "Acurácia: 0.7771666666666667\n",
      "Matriz de confusão:\n",
      " [[4663    0]\n",
      " [1337    0]]\n",
      "Relatório de classificação:\n",
      "               precision    recall  f1-score   support\n",
      "\n",
      "           0       0.78      1.00      0.87      4663\n",
      "           1       0.00      0.00      0.00      1337\n",
      "\n",
      "    accuracy                           0.78      6000\n",
      "   macro avg       0.39      0.50      0.44      6000\n",
      "weighted avg       0.60      0.78      0.68      6000\n",
      "\n"
     ]
    },
    {
     "name": "stderr",
     "output_type": "stream",
     "text": [
      "c:\\Users\\aSHUA\\Desktop\\teste\\venv\\Lib\\site-packages\\sklearn\\linear_model\\_logistic.py:465: ConvergenceWarning: lbfgs failed to converge (status=1):\n",
      "STOP: TOTAL NO. OF ITERATIONS REACHED LIMIT.\n",
      "\n",
      "Increase the number of iterations (max_iter) or scale the data as shown in:\n",
      "    https://scikit-learn.org/stable/modules/preprocessing.html\n",
      "Please also refer to the documentation for alternative solver options:\n",
      "    https://scikit-learn.org/stable/modules/linear_model.html#logistic-regression\n",
      "  n_iter_i = _check_optimize_result(\n",
      "c:\\Users\\aSHUA\\Desktop\\teste\\venv\\Lib\\site-packages\\sklearn\\metrics\\_classification.py:1565: UndefinedMetricWarning: Precision is ill-defined and being set to 0.0 in labels with no predicted samples. Use `zero_division` parameter to control this behavior.\n",
      "  _warn_prf(average, modifier, f\"{metric.capitalize()} is\", len(result))\n",
      "c:\\Users\\aSHUA\\Desktop\\teste\\venv\\Lib\\site-packages\\sklearn\\metrics\\_classification.py:1565: UndefinedMetricWarning: Precision is ill-defined and being set to 0.0 in labels with no predicted samples. Use `zero_division` parameter to control this behavior.\n",
      "  _warn_prf(average, modifier, f\"{metric.capitalize()} is\", len(result))\n",
      "c:\\Users\\aSHUA\\Desktop\\teste\\venv\\Lib\\site-packages\\sklearn\\metrics\\_classification.py:1565: UndefinedMetricWarning: Precision is ill-defined and being set to 0.0 in labels with no predicted samples. Use `zero_division` parameter to control this behavior.\n",
      "  _warn_prf(average, modifier, f\"{metric.capitalize()} is\", len(result))\n"
     ]
    }
   ],
   "source": [
    "from sklearn.model_selection import train_test_split\n",
    "from sklearn.linear_model import LogisticRegression\n",
    "from sklearn.metrics import accuracy_score, confusion_matrix, classification_report\n",
    "\n",
    "input = credit.drop(columns='default.payment.next.month')\n",
    "output = credit['default.payment.next.month']\n",
    "\n",
    "input_train, input_test, output_train, output_test = train_test_split(input, output, test_size = 0.2, random_state=47)\n",
    "\n",
    "model = LogisticRegression()\n",
    "model.fit(input_train, output_train)\n",
    "\n",
    "predict = model.predict(input_test)\n",
    "\n",
    "\n",
    "print(\"Acurácia:\", accuracy_score(output_test, predict))\n",
    "print(\"Matriz de confusão:\\n\", confusion_matrix(output_test, predict))\n",
    "print(\"Relatório de classificação:\\n\", classification_report(output_test, predict))"
   ]
  },
  {
   "cell_type": "markdown",
   "id": "e9173f97",
   "metadata": {},
   "source": [
    "**Usando StandardScaler**"
   ]
  },
  {
   "cell_type": "code",
   "execution_count": null,
   "id": "ee8cfbac",
   "metadata": {},
   "outputs": [
    {
     "name": "stdout",
     "output_type": "stream",
     "text": [
      "Acurácia: 0.8145\n",
      "Matriz de confusão:\n",
      " [[4546  117]\n",
      " [ 996  341]]\n",
      "Relatório de classificação:\n",
      "               precision    recall  f1-score   support\n",
      "\n",
      "           0       0.82      0.97      0.89      4663\n",
      "           1       0.74      0.26      0.38      1337\n",
      "\n",
      "    accuracy                           0.81      6000\n",
      "   macro avg       0.78      0.61      0.64      6000\n",
      "weighted avg       0.80      0.81      0.78      6000\n",
      "\n"
     ]
    }
   ],
   "source": [
    "from sklearn.preprocessing import StandardScaler\n",
    "\n",
    "input = credit.drop(columns='default.payment.next.month')\n",
    "output = credit['default.payment.next.month']\n",
    "\n",
    "input_train, input_test, output_train, output_test = train_test_split(input, output, test_size = 0.2, random_state=47)\n",
    "\n",
    "scaler = StandardScaler()\n",
    "input_train_scaled = scaler.fit_transform(input_train)\n",
    "\n",
    "input_test_scaled = scaler.transform(input_test)\n",
    "\n",
    "model = LogisticRegression()\n",
    "model.fit(input_train_scaled, output_train)\n",
    "\n",
    "predict = model.predict(input_test_scaled)\n",
    "\n",
    "print(\"Acurácia:\", accuracy_score(output_test, predict))\n",
    "print(\"Matriz de confusão:\\n\", confusion_matrix(output_test, predict))\n",
    "print(\"Relatório de classificação:\\n\", classification_report(output_test, predict))"
   ]
  },
  {
   "cell_type": "markdown",
   "id": "9b054663",
   "metadata": {},
   "source": [
    "**Usando MinMaxScaler**"
   ]
  },
  {
   "cell_type": "code",
   "execution_count": 4,
   "id": "3f81eb5f",
   "metadata": {},
   "outputs": [
    {
     "name": "stdout",
     "output_type": "stream",
     "text": [
      "Acurácia: 0.814\n",
      "Matriz de confusão:\n",
      " [[4548  115]\n",
      " [1001  336]]\n",
      "Relatório de classificação:\n",
      "               precision    recall  f1-score   support\n",
      "\n",
      "           0       0.82      0.98      0.89      4663\n",
      "           1       0.75      0.25      0.38      1337\n",
      "\n",
      "    accuracy                           0.81      6000\n",
      "   macro avg       0.78      0.61      0.63      6000\n",
      "weighted avg       0.80      0.81      0.78      6000\n",
      "\n"
     ]
    }
   ],
   "source": [
    "from sklearn.preprocessing import MinMaxScaler\n",
    "\n",
    "input = credit.drop(columns='default.payment.next.month')\n",
    "output = credit['default.payment.next.month']\n",
    "\n",
    "input_train, input_test, output_train, output_test = train_test_split(input, output, test_size = 0.2, random_state=47)\n",
    "\n",
    "scaler = MinMaxScaler()\n",
    "input_train_scaled = scaler.fit_transform(input_train)\n",
    "\n",
    "input_test_scaled = scaler.transform(input_test)\n",
    "\n",
    "model = LogisticRegression()\n",
    "model.fit(input_train_scaled, output_train)\n",
    "\n",
    "predict = model.predict(input_test_scaled)\n",
    "\n",
    "\n",
    "print(\"Acurácia:\", accuracy_score(output_test, predict))\n",
    "print(\"Matriz de confusão:\\n\", confusion_matrix(output_test, predict))\n",
    "print(\"Relatório de classificação:\\n\", classification_report(output_test, predict))"
   ]
  }
 ],
 "metadata": {
  "kernelspec": {
   "display_name": "venv",
   "language": "python",
   "name": "python3"
  },
  "language_info": {
   "codemirror_mode": {
    "name": "ipython",
    "version": 3
   },
   "file_extension": ".py",
   "mimetype": "text/x-python",
   "name": "python",
   "nbconvert_exporter": "python",
   "pygments_lexer": "ipython3",
   "version": "3.12.8"
  }
 },
 "nbformat": 4,
 "nbformat_minor": 5
}
