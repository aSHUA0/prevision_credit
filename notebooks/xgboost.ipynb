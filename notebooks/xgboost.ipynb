{
 "cells": [
  {
   "cell_type": "markdown",
   "id": "99190c4c",
   "metadata": {},
   "source": [
    "# **XGBoost**"
   ]
  },
  {
   "cell_type": "code",
   "execution_count": 1,
   "id": "8b94ea07",
   "metadata": {},
   "outputs": [],
   "source": [
    "import os\n",
    "import pandas as pd\n",
    "\n",
    "caminho = os.path.join(\"..\", \"data\", 'UCC.csv')\n",
    "\n",
    "credit = pd.read_csv(caminho)"
   ]
  },
  {
   "cell_type": "code",
   "execution_count": 3,
   "id": "e572f6aa",
   "metadata": {},
   "outputs": [
    {
     "name": "stdout",
     "output_type": "stream",
     "text": [
      "Acurácia: 0.8206666666666667\n",
      "Matriz de confusão:\n",
      " [[4427  236]\n",
      " [ 840  497]]\n",
      "Relatório de classificação:\n",
      "               precision    recall  f1-score   support\n",
      "\n",
      "           0       0.84      0.95      0.89      4663\n",
      "           1       0.68      0.37      0.48      1337\n",
      "\n",
      "    accuracy                           0.82      6000\n",
      "   macro avg       0.76      0.66      0.69      6000\n",
      "weighted avg       0.80      0.82      0.80      6000\n",
      "\n"
     ]
    },
    {
     "name": "stderr",
     "output_type": "stream",
     "text": [
      "c:\\Users\\aSHUA\\Desktop\\projeto\\venv\\Lib\\site-packages\\xgboost\\training.py:183: UserWarning: [17:07:52] WARNING: C:\\actions-runner\\_work\\xgboost\\xgboost\\src\\learner.cc:738: \n",
      "Parameters: { \"use_label_encoder\" } are not used.\n",
      "\n",
      "  bst.update(dtrain, iteration=i, fobj=obj)\n"
     ]
    }
   ],
   "source": [
    "from xgboost import XGBClassifier\n",
    "from sklearn.model_selection import train_test_split\n",
    "from sklearn.metrics import accuracy_score, confusion_matrix, classification_report\n",
    "\n",
    "#Separação dos dados\n",
    "input = credit.drop(columns='default.payment.next.month')\n",
    "output = credit['default.payment.next.month']\n",
    "input_train, input_test, output_train, output_test = train_test_split(input, output, test_size = 0.2, random_state=47)\n",
    "\n",
    "#Instanciar XGBoost\n",
    "XGBC_model = XGBClassifier(max_depth=3, learning_rate=0.1, use_label_encoder=False, eval_metric='logloss')\n",
    "\n",
    "#Treinando o Algoritimo\n",
    "XGBC_model.fit(input_train, output_train)\n",
    "\n",
    "XGBC_predict = XGBC_model.predict(input_test)\n",
    "\n",
    "print(\"Acurácia:\", accuracy_score(output_test, XGBC_predict))\n",
    "print(\"Matriz de confusão:\\n\", confusion_matrix(output_test, XGBC_predict))\n",
    "print(\"Relatório de classificação:\\n\", classification_report(output_test, XGBC_predict))"
   ]
  },
  {
   "cell_type": "markdown",
   "id": "a2b7b8e3",
   "metadata": {},
   "source": [
    "**Usando StandardScaler**"
   ]
  },
  {
   "cell_type": "code",
   "execution_count": 5,
   "id": "fd78f097",
   "metadata": {},
   "outputs": [
    {
     "name": "stdout",
     "output_type": "stream",
     "text": [
      "Acurácia: 0.8206666666666667\n",
      "Matriz de confusão:\n",
      " [[4427  236]\n",
      " [ 840  497]]\n",
      "Relatório de classificação:\n",
      "               precision    recall  f1-score   support\n",
      "\n",
      "           0       0.84      0.95      0.89      4663\n",
      "           1       0.68      0.37      0.48      1337\n",
      "\n",
      "    accuracy                           0.82      6000\n",
      "   macro avg       0.76      0.66      0.69      6000\n",
      "weighted avg       0.80      0.82      0.80      6000\n",
      "\n"
     ]
    },
    {
     "name": "stderr",
     "output_type": "stream",
     "text": [
      "c:\\Users\\aSHUA\\Desktop\\teste\\venv\\Lib\\site-packages\\xgboost\\training.py:183: UserWarning: [16:42:03] WARNING: C:\\actions-runner\\_work\\xgboost\\xgboost\\src\\learner.cc:738: \n",
      "Parameters: { \"use_label_encoder\" } are not used.\n",
      "\n",
      "  bst.update(dtrain, iteration=i, fobj=obj)\n"
     ]
    }
   ],
   "source": [
    "from sklearn.preprocessing import StandardScaler\n",
    "\n",
    "#Separação dos dados\n",
    "input = credit.drop(columns='default.payment.next.month')\n",
    "output = credit['default.payment.next.month']\n",
    "input_train, input_test, output_train, output_test = train_test_split(input, output, test_size = 0.2, random_state=47)\n",
    "\n",
    "#Instanciar XGBoost\n",
    "XGBC_model = XGBClassifier(n_estimators=100, max_depth=3, learning_rate=0.1, use_label_encoder=False, eval_metric='logloss')\n",
    "\n",
    "#Escalonando os dados\n",
    "scaler = StandardScaler()\n",
    "input_train_scaled = scaler.fit_transform(input_train)\n",
    "\n",
    "input_test_scaled = scaler.transform(input_test)\n",
    "\n",
    "#Treinando o Algoritimo\n",
    "XGBC_model.fit(input_train_scaled, output_train)\n",
    "\n",
    "XGBC_predict = XGBC_model.predict(input_test_scaled)\n",
    "\n",
    "print(\"Acurácia:\", accuracy_score(output_test, XGBC_predict))\n",
    "print(\"Matriz de confusão:\\n\", confusion_matrix(output_test, XGBC_predict))\n",
    "print(\"Relatório de classificação:\\n\", classification_report(output_test, XGBC_predict))"
   ]
  },
  {
   "cell_type": "markdown",
   "id": "95abd6ad",
   "metadata": {},
   "source": [
    "**Usando MinMaxScaler**"
   ]
  },
  {
   "cell_type": "code",
   "execution_count": 7,
   "id": "d3f736c3",
   "metadata": {},
   "outputs": [
    {
     "name": "stdout",
     "output_type": "stream",
     "text": [
      "Acurácia: 0.8206666666666667\n",
      "Matriz de confusão:\n",
      " [[4427  236]\n",
      " [ 840  497]]\n",
      "Relatório de classificação:\n",
      "               precision    recall  f1-score   support\n",
      "\n",
      "           0       0.84      0.95      0.89      4663\n",
      "           1       0.68      0.37      0.48      1337\n",
      "\n",
      "    accuracy                           0.82      6000\n",
      "   macro avg       0.76      0.66      0.69      6000\n",
      "weighted avg       0.80      0.82      0.80      6000\n",
      "\n"
     ]
    },
    {
     "name": "stderr",
     "output_type": "stream",
     "text": [
      "c:\\Users\\aSHUA\\Desktop\\teste\\venv\\Lib\\site-packages\\xgboost\\training.py:183: UserWarning: [16:44:46] WARNING: C:\\actions-runner\\_work\\xgboost\\xgboost\\src\\learner.cc:738: \n",
      "Parameters: { \"use_label_encoder\" } are not used.\n",
      "\n",
      "  bst.update(dtrain, iteration=i, fobj=obj)\n"
     ]
    }
   ],
   "source": [
    "from sklearn.preprocessing import MinMaxScaler\n",
    "\n",
    "#Separação dos dados\n",
    "input = credit.drop(columns='default.payment.next.month')\n",
    "output = credit['default.payment.next.month']\n",
    "input_train, input_test, output_train, output_test = train_test_split(input, output, test_size = 0.2, random_state=47)\n",
    "\n",
    "#Escalonando os dados\n",
    "scaler = MinMaxScaler()\n",
    "input_train_scaled = scaler.fit_transform(input_train)\n",
    "\n",
    "input_test_scaled = scaler.transform(input_test)\n",
    "\n",
    "#Instanciar XGBoost\n",
    "XGBC_model = XGBClassifier(n_estimators=100, max_depth=3, learning_rate=0.1, use_label_encoder=False, eval_metric='logloss')\n",
    "\n",
    "#Treinando o Algoritimo\n",
    "XGBC_model.fit(input_train_scaled, output_train)\n",
    "\n",
    "XGBC_predict = XGBC_model.predict(input_test_scaled)\n",
    "\n",
    "print(\"Acurácia:\", accuracy_score(output_test, XGBC_predict))\n",
    "print(\"Matriz de confusão:\\n\", confusion_matrix(output_test, XGBC_predict))\n",
    "print(\"Relatório de classificação:\\n\", classification_report(output_test, XGBC_predict))"
   ]
  }
 ],
 "metadata": {
  "kernelspec": {
   "display_name": "venv",
   "language": "python",
   "name": "python3"
  },
  "language_info": {
   "codemirror_mode": {
    "name": "ipython",
    "version": 3
   },
   "file_extension": ".py",
   "mimetype": "text/x-python",
   "name": "python",
   "nbconvert_exporter": "python",
   "pygments_lexer": "ipython3",
   "version": "3.12.8"
  }
 },
 "nbformat": 4,
 "nbformat_minor": 5
}
